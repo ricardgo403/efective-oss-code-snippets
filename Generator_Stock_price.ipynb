{
  "nbformat": 4,
  "nbformat_minor": 0,
  "metadata": {
    "colab": {
      "provenance": [],
      "authorship_tag": "ABX9TyMD4FPXxQiKSoj8PBRdJHHD",
      "include_colab_link": true
    },
    "kernelspec": {
      "name": "python3",
      "display_name": "Python 3"
    },
    "language_info": {
      "name": "python"
    }
  },
  "cells": [
    {
      "cell_type": "markdown",
      "metadata": {
        "id": "view-in-github",
        "colab_type": "text"
      },
      "source": [
        "<a href=\"https://colab.research.google.com/github/ricardgo403/efective-oss-code-snippets/blob/main/Generator_Stock_price.ipynb\" target=\"_parent\"><img src=\"https://colab.research.google.com/assets/colab-badge.svg\" alt=\"Open In Colab\"/></a>"
      ]
    },
    {
      "cell_type": "code",
      "execution_count": 1,
      "metadata": {
        "id": "NBoncJTgFCbO"
      },
      "outputs": [],
      "source": [
        "import random\n",
        "import time"
      ]
    },
    {
      "cell_type": "code",
      "source": [
        "def stock_price_generator(initial_price, volatility, steps):\n",
        "    \"\"\"Generates stock prices starting from initial_price with given volatility.\"\"\"\n",
        "\n",
        "    price = initial_price\n",
        "    for _ in range(steps):\n",
        "        # Simulate price change\n",
        "        change_percent = random.uniform(-volatility, volatility)\n",
        "        price += price * change_percent\n",
        "        yield price\n",
        "        time.sleep(1) # Simulate real-time delay"
      ],
      "metadata": {
        "id": "ecP_xX7KFdYL"
      },
      "execution_count": 2,
      "outputs": []
    },
    {
      "cell_type": "code",
      "source": [
        "# Create the stock price generator\n",
        "initial_price = 100.0 # Starting stock price\n",
        "volatility = 0.02 # Volatility as a percentage\n",
        "steps = 10 # Number of steps (updates) to simulate\n",
        "\n",
        "stock_prices = stock_price_generator(initial_price, volatility, steps)"
      ],
      "metadata": {
        "id": "VqqnzdNXFlVJ"
      },
      "execution_count": 3,
      "outputs": []
    },
    {
      "cell_type": "code",
      "source": [
        "# Simulate recieving and processing real-time stock prices\n",
        "for price in stock_prices:\n",
        "    print(f\"New stock price: {price:.2f}\")"
      ],
      "metadata": {
        "colab": {
          "base_uri": "https://localhost:8080/"
        },
        "id": "8nslOKxWFsLM",
        "outputId": "042ef27f-6fb9-402d-9ab1-7aeaba2bcea3"
      },
      "execution_count": 4,
      "outputs": [
        {
          "output_type": "stream",
          "name": "stdout",
          "text": [
            "New stock price: 101.41\n",
            "New stock price: 101.96\n",
            "New stock price: 102.29\n",
            "New stock price: 102.65\n",
            "New stock price: 101.14\n",
            "New stock price: 101.02\n",
            "New stock price: 102.54\n",
            "New stock price: 101.57\n",
            "New stock price: 100.41\n",
            "New stock price: 98.93\n"
          ]
        }
      ]
    }
  ]
}